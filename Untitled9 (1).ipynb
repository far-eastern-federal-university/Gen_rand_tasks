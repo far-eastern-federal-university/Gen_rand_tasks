{
 "cells": [
  {
   "cell_type": "code",
   "execution_count": 2,
   "metadata": {},
   "outputs": [
    {
     "name": "stdout",
     "output_type": "stream",
     "text": [
      "[1, 1, 0, 1, 1, 0, 0, 1, 1, 0, 1, 0, 1, 0, 0, 1, 0, 0, 1, 1, 1, 0, 1, 1, 1, 0, 0, 0, 1, 0, 1, 0, 1, 0, 1, 0, 0, 0, 0, 1, 0, 0, 1, 0, 1, 0, 1, 0, 0, 1]\n",
      "0.48\n"
     ]
    }
   ],
   "source": [
    "###№1\n",
    "import numpy as np\n",
    "p=0.3\n",
    "one=[]\n",
    "for i in range (50):\n",
    "    r=np.random.uniform(0,1)\n",
    "    if r<p:\n",
    "        one.append(1)\n",
    "    else:\n",
    "        one.append(0)\n",
    "print (one)\n",
    "print(sum(one)/len(one))"
   ]
  },
  {
   "cell_type": "code",
   "execution_count": 3,
   "metadata": {},
   "outputs": [
    {
     "name": "stdout",
     "output_type": "stream",
     "text": [
      "[[0.00182682 0.14326633 0.00749506 0.06416813 0.10020836 0.19102095\n",
      "  0.04261346 0.00295837 0.22008519 0.22635733]]\n",
      "[0.00182682 0.14509315 0.15258821 0.21675634 0.3169647  0.50798565\n",
      " 0.55059911 0.55355748 0.77364267 1.        ]\n"
     ]
    }
   ],
   "source": [
    "#####2\n",
    "r=np.random.uniform(0,1,(1,10))\n",
    "r=r/r.sum()\n",
    "print(r)\n",
    "y = np.cumsum(r)\n",
    "z=np.random.uniform(0,1)\n",
    "u = z>y\n",
    "t = z<y\n",
    "print(y)"
   ]
  },
  {
   "cell_type": "code",
   "execution_count": 22,
   "metadata": {},
   "outputs": [
    {
     "name": "stdout",
     "output_type": "stream",
     "text": [
      "-0.003658282490148647 1.0016158415198877\n"
     ]
    }
   ],
   "source": [
    "###4\n",
    "import numpy as np\n",
    "import math \n",
    "from statistics import variance\n",
    "eps=[]\n",
    "eps_22=[]\n",
    "for i in range(100000):\n",
    "    r_1=np.random.uniform(0,1)\n",
    "    r_2=np.random.uniform(0,1)\n",
    "    eps_1=math.sqrt(-2*math.log(r_1))*np.sin(2*math.pi*r_2)\n",
    "    eps_2=math.sqrt(-2*math.log(r_1))*np.cos(2*math.pi*r_2)\n",
    "    eps.append(eps_1)\n",
    "    eps_22.append(eps_2)\n",
    "print(np.mean(eps), np.var(eps))\n",
    "#print(eps)"
   ]
  },
  {
   "cell_type": "code",
   "execution_count": 8,
   "metadata": {},
   "outputs": [
    {
     "name": "stdout",
     "output_type": "stream",
     "text": [
      "[0.57585137 0.23658438 0.18756425]\n",
      "[0.57585137 0.81243575 1.        ]\n",
      "0.2442\n"
     ]
    }
   ],
   "source": [
    "import numpy as np\n",
    "listofdistr = [4, 6, 8]\n",
    "np.random.seed(123)\n",
    "w = np.random.uniform(size=len(listofdistr))\n",
    "w = w/sum(w)\n",
    "print(w)\n",
    "cump = np.cumsum(w)\n",
    "print(cump)\n",
    "lst =[]\n",
    "\n",
    "for i in range(10000):\n",
    "    a = np.random.uniform()\n",
    "    lst.append(listofdistr[np.argmax(np.array(cump) > a)])\n",
    "    \n",
    "g=0\n",
    "for i in lst:\n",
    "    if i==6:\n",
    "        g+=1\n",
    "\n",
    "print(g/len(lst))\n",
    "#вывести четверки и отнощшение колво 4 ( должно совпасть с первым элементом в матрице)"
   ]
  },
  {
   "cell_type": "code",
   "execution_count": 24,
   "metadata": {},
   "outputs": [
    {
     "name": "stdout",
     "output_type": "stream",
     "text": [
      "[-2.0043162866737494, -1.8391013221289003, -1.8770020284787752, -1.8434695844584166, -0.7290151065235585, -1.065780116614783, -1.3595707448652736, -0.8996625144386315, -1.8793850940811216, -2.2716284769861037, -2.014177904710449, -0.37224182003621203, -0.5452408818771188, -0.3136068764776178, -2.0950242333101343, -2.5211173124672417, -0.38420017376251786, -0.48762042250104837, -1.9034641189037427, -0.8832866084506791, -0.4729405918840499, -0.7339258944444463, -1.1143030299106262, -1.6633497403397433, -1.486483087969985, -0.6875587259528704, -0.6244455635651268, -2.298905707752311, -1.028243820306926, -1.0128398383390484, -0.5812200719759736, -1.199631589392458, -1.8354557848948663, -1.5614473587598616, -0.4936617913849421, -0.8750526828218443, -1.2532601874198088, -2.367084765388825, -1.0840510471047842, -1.5185679283718638, -0.45586082397738403, -0.9417475053446693, -1.5932106910246284, -1.067536974838437, -1.9468364245943437, -0.9152481423350138, -1.5336306001225741, -0.9954690957858141, -2.3801891796792183, -0.7862607171776321, -0.9232456765939661, -1.028620664981758, -1.378606940429625, -0.9084706783729894, -0.8022203741267788, -0.9126982794508631, -0.49215379757038025, -1.4060656111010312, -1.288818932096356, -2.021161471940342, -0.2110796048143143, -1.5616824582832163, -0.6385596705427644, -0.4071104301580204, -1.8647055984008891, -3.0035048641584585, -1.9059695471014297, -0.1268358225966253, -1.1950394697485311, -0.6681491831857777, -1.8497996522705131, -1.6749130165119888, -1.2092207103725725, -1.9894744647417957, -1.7932507887159208, -1.2187525289476588, -1.6417898307051841, -2.313492602746204, -2.847120068669662, -1.3285358182360834, -1.8043208242009314, -1.2130236906730567, -1.3550673156214172, -0.30421162000285945, -1.5434483462672166, -1.1641006222069192, -1.2795640527129057, -0.6899540355771593, -0.5104172015793945, -0.906523006568441, -0.9194787572792178, -0.37234719235265534, -2.618736148921235, -0.9921207886418038, -1.6291259532542715, -1.049563354620314, -0.8411501947661302, -1.1646457294095365, -1.3462009264337473, -3.002305897573933]\n"
     ]
    }
   ],
   "source": [
    "###5\n",
    "def gen_normal_multeddemational(n=2):\n",
    "    eps=[]\n",
    "    for i in range(n):\n",
    "        r_1=np.random.uniform(0,1)\n",
    "        eps_1=math.sqrt(-2*math.log(r_1))*np.sin(2*math.pi*r_2)\n",
    "        eps.append(eps_1)\n",
    "    return eps\n",
    "print(gen_normal_multeddemational(n=100))\n",
    "        "
   ]
  },
  {
   "cell_type": "code",
   "execution_count": 42,
   "metadata": {},
   "outputs": [
    {
     "name": "stdout",
     "output_type": "stream",
     "text": [
      "[-1.129849   -1.34947924 -0.80134461 -1.92817919 -0.2468627  -1.61921307\n",
      " -1.56490158 -0.48564968 -2.11199957 -2.52926549]\n",
      "[ 2.69588005  7.66768169  2.63625749  0.65308867  5.10039582 -3.49223983\n",
      "  8.63414548  4.14456064 -0.61998229  3.86145808]\n"
     ]
    }
   ],
   "source": [
    "###6\n",
    "def gen_normal_multeddemational(n=2):\n",
    "    eps=[]\n",
    "    for i in range(n):\n",
    "        r_1=np.random.uniform(0,1)\n",
    "        eps_1=math.sqrt(-2*math.log(r_1))*np.sin(2*math.pi*r_2)\n",
    "        eps.append(eps_1)\n",
    "    return np.array(eps)\n",
    "print(gen_normal_multeddemational(n=10))\n",
    "m=np.ones(10)*2\n",
    "v=np.random.normal(size=(10,10))\n",
    "#v=np.eye(10)\n",
    "s=np.zeros(len(m))\n",
    "for i in range(100000):\n",
    "    x=m+np.dot(v,gen_normal_multeddemational(n=10))\n",
    "    s+=x\n",
    "s/=100000\n",
    "print(s)\n",
    "\n"
   ]
  },
  {
   "cell_type": "code",
   "execution_count": null,
   "metadata": {},
   "outputs": [],
   "source": [
    "###7\n",
    "import numpy as np\n",
    "import matplotlib.pyplot as plt\n",
    "import scipy.stats\n",
    "\n",
    "\n",
    "# Fun\n",
    "def genpoints(listofdistr, numobj, cump):\n",
    "    lst = []\n",
    "    for i in range(numobj):\n",
    "        j = np.argmax(np.array(cump) > np.random.uniform())\n",
    "        r = eval('np.random.' + listofdistr[j][0] + '(' + str(listofdistr[j][1]) + ',' + str(listofdistr[j][2]) + ')')\n",
    "        lst.append(r)\n",
    "    return lst\n",
    "\n",
    "# Блок определения входных данных\n",
    "numobj = 1000\n",
    "listofdistr = [['normal', 0, 1], ['uniform', 3, 5]]\n",
    "\n",
    "# Фиксируем генератор случайных чисел\n",
    "#np.random.seed(123)\n",
    "\n",
    "# Генерация плотности распределения для списка распределений\n",
    "w = np.random.uniform(size=len(listofdistr))\n",
    "w = w/sum(w)\n",
    "\n",
    "# Построение дискретной функции распределения\n",
    "cump = np.cumsum(w)\n",
    "\n",
    "# Проверка работы функции\n",
    "\n",
    "lst = genpoints(listofdistr, numobj, w)\n",
    "print(np.random.uniform(), np.random.uniform())\n",
    "\n",
    "plt.hist(lst, bins='auto')\n",
    "\n",
    "# Обратная задача: как получить значение функции плотности от x? (1d)\n",
    "\n",
    "listofdistr = [['norm', 0, 1], ['uniform', 3, 5]]\n",
    "\n",
    "def mix_distr(listofdistr, w, x):\n",
    "    lst_val_distr = []\n",
    "    for dstr in listofdistr:\n",
    "        val = eval(\"scipy.stats.\" + dstr[0] + \"(\" + \"x,\" + str(dstr[1]) + \",\" + str(dstr[2]) + \")\")\n",
    "        lst_val_distr.append(val)\n",
    "    return np.dot(lst_val_distr, w)\n",
    "\n",
    "mix_distr(listofdistr, w, 3)"
   ]
  }
 ],
 "metadata": {
  "kernelspec": {
   "display_name": "Python 3",
   "language": "python",
   "name": "python3"
  },
  "language_info": {
   "codemirror_mode": {
    "name": "ipython",
    "version": 3
   },
   "file_extension": ".py",
   "mimetype": "text/x-python",
   "name": "python",
   "nbconvert_exporter": "python",
   "pygments_lexer": "ipython3",
   "version": "3.7.0"
  }
 },
 "nbformat": 4,
 "nbformat_minor": 2
}
